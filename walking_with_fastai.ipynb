{
  "nbformat": 4,
  "nbformat_minor": 0,
  "metadata": {
    "colab": {
      "provenance": [],
      "authorship_tag": "ABX9TyOtAeg/JRTXVFzDM/TuBwhg",
      "include_colab_link": true
    },
    "kernelspec": {
      "name": "python3",
      "display_name": "Python 3"
    },
    "language_info": {
      "name": "python"
    }
  },
  "cells": [
    {
      "cell_type": "markdown",
      "metadata": {
        "id": "view-in-github",
        "colab_type": "text"
      },
      "source": [
        "<a href=\"https://colab.research.google.com/github/brentosaurus/course22/blob/master/walking_with_fastai.ipynb\" target=\"_parent\"><img src=\"https://colab.research.google.com/assets/colab-badge.svg\" alt=\"Open In Colab\"/></a>"
      ]
    },
    {
      "cell_type": "markdown",
      "source": [
        "From https://walkwithfastai.com/Pandas#Titanic"
      ],
      "metadata": {
        "id": "0Gy4t9lM95Kz"
      }
    },
    {
      "cell_type": "code",
      "execution_count": 32,
      "metadata": {
        "id": "qMLwMWkh9xmm"
      },
      "outputs": [],
      "source": [
        "import pandas as pd\n",
        "!pip install -Uqq fastai\n",
        "from fastcore.all import *\n",
        "\n",
        "from fastcore.basics import range_of, ifnone\n",
        "\n",
        "from fastai.callback.progress import ProgressCallback\n",
        "from fastai.callback.schedule import lr_find\n",
        "\n",
        "from fastai.data.block import CategoryBlock\n",
        "from fastai.data.core import DataLoaders\n",
        "from fastai.data.external import untar_data, URLs\n",
        "from fastai.data.transforms import RandomSplitter\n",
        "\n",
        "from fastai.learner import load_learner, Learner\n",
        "from fastai.metrics import accuracy\n",
        "\n",
        "from fastai.tabular.core import Categorify, FillMissing, FillStrategy, Normalize, TabularPandas, TabDataLoader\n",
        "from fastai.tabular.model import TabularModel\n",
        "from fastai.tabular.learner import tabular_learner"
      ]
    },
    {
      "cell_type": "code",
      "source": [
        "!git clone https://github.com/pcsanwald/kaggle-titanic.git\n",
        "path = Path('kaggle-titanic')\n",
        "#path.ls()"
      ],
      "metadata": {
        "colab": {
          "base_uri": "https://localhost:8080/"
        },
        "id": "vPMhAvim_N4F",
        "outputId": "8e6bcdf4-8d78-463e-84b0-229f21ab7fa1"
      },
      "execution_count": 17,
      "outputs": [
        {
          "output_type": "stream",
          "name": "stdout",
          "text": [
            "fatal: destination path 'kaggle-titanic' already exists and is not an empty directory.\n"
          ]
        }
      ]
    },
    {
      "cell_type": "code",
      "source": [
        "#df = pd.read_csv(path/'train.csv')\n",
        "path = untar_data(URLs.ADULT_SAMPLE)\n",
        "path.ls()\n",
        "df = pd.read_csv(path/'adult.csv')"
      ],
      "metadata": {
        "id": "KJN6MQ1n_sH9"
      },
      "execution_count": 33,
      "outputs": []
    },
    {
      "cell_type": "code",
      "source": [
        "#df[['survived', 'pclass']][:20].plot(kind='bar', title='pclass')"
      ],
      "metadata": {
        "id": "qbqy3LW_DwZy"
      },
      "execution_count": 19,
      "outputs": []
    },
    {
      "cell_type": "code",
      "source": [
        "cat_names = ['workclass', 'education', 'marital-status', 'occupation', 'relationship', 'race']\n",
        "cont_names = ['age', 'fnlwgt', 'education-num']\n",
        "to = TabularPandas(df, procs=Categorify, cat_names=cat_names)\n",
        "to.cats.iloc[0]\n",
        "df.iloc[0]\n",
        "a,b=RandomSplitter()(range_of(df))\n"
      ],
      "metadata": {
        "colab": {
          "base_uri": "https://localhost:8080/"
        },
        "id": "OE3iRTQFG80m",
        "outputId": "5e10cbde-0e82-4cfd-bdd5-2f0c37912c89"
      },
      "execution_count": 72,
      "outputs": [
        {
          "output_type": "stream",
          "name": "stdout",
          "text": [
            "26049\n",
            "6512\n",
            "0.24999040270259895\n"
          ]
        }
      ]
    }
  ]
}